{
 "cells": [
  {
   "cell_type": "markdown",
   "metadata": {},
   "source": [
    "### BIO727P - Bioinformatics Software Development Group Project (2019/20)"
   ]
  },
  {
   "cell_type": "markdown",
   "metadata": {},
   "source": [
    "#### AIM: To populate the database using SQLAlchemy"
   ]
  },
  {
   "cell_type": "code",
   "execution_count": null,
   "metadata": {},
   "outputs": [],
   "source": [
    "# Python version: Python 3.7.4\n",
    "\n",
    "# import the required packages\n",
    "\n",
    "!pip install sqlalchemy\n",
    "!pip install pandas\n",
    "\n",
    "from sqlalchemy import Column, Integer, String, ForeignKey\n",
    "from sqlalchemy import create_engine\n",
    "from sqlalchemy.ext.declarative import declarative_base\n",
    "from sqlalchemy.orm import relationship\n",
    "from sqlalchemy.orm import sessionmaker\n",
    "import pandas as pd"
   ]
  },
  {
   "cell_type": "markdown",
   "metadata": {},
   "source": [
    "__Step 1:__ Create an engine that allows us to comminicate with the database, and a session which is the middle ground to talk to our engine"
   ]
  },
  {
   "cell_type": "code",
   "execution_count": null,
   "metadata": {},
   "outputs": [],
   "source": [
    "# engine = create_engine('sqlite:///c:\\\\sqlite\\\\final_database.db', echo=True)\n",
    "\n",
    "engine = create_engine('sqlite:///c__sqlite_final_database.db', echo=True)\n",
    "\n",
    "Session = sessionmaker(bind=engine)\n",
    "session = Session()"
   ]
  },
  {
   "cell_type": "markdown",
   "metadata": {},
   "source": [
    "__Step 2:__ The following returns a new base class from which all mapped classes should inherit"
   ]
  },
  {
   "cell_type": "code",
   "execution_count": null,
   "metadata": {},
   "outputs": [],
   "source": [
    "Base = declarative_base()"
   ]
  },
  {
   "cell_type": "markdown",
   "metadata": {},
   "source": [
    "__Step 3:__ Define the structures of all our tables within our database, including the primary and foreign keys"
   ]
  },
  {
   "cell_type": "code",
   "execution_count": null,
   "metadata": {},
   "outputs": [],
   "source": [
    "class HumanKinases(Base):\n",
    "    __tablename__ = 'human_kinases'\n",
    "    UniProt_ID = Column(String(15), primary_key=True)\n",
    "    PDB_ID = Column(String(5))\n",
    "    PDB_URL = Column(String(60))\n",
    "    PDB_title = Column(String(250))\n",
    "    Entry_name = Column(String(15))\n",
    "    Primary_Protein_Name = Column(String(100))\n",
    "    Alternative_Protein_Name = Column(String(350)) \n",
    "    Gene_Symbol = Column(String(15))\n",
    "    Alternative_Gene_Name = Column(String(60)) \n",
    "    Families = Column(String(175))\n",
    "    AA_Seq = Column(String(34400))\n",
    "    Molecular_Mass = Column(String(10))\n",
    "    Subcellular_Location = Column(String(350))"
   ]
  },
  {
   "cell_type": "code",
   "execution_count": null,
   "metadata": {},
   "outputs": [],
   "source": [
    "class Phosphosites(Base):\n",
    "    __tablename__ = 'phosphosites'\n",
    "    GENE = Column(String(20))\n",
    "    PROTEIN = Column(String(20))\n",
    "    ACC_ID = Column(String(19))\n",
    "    HU_CHR_LOC = Column(String(26))\n",
    "    MOD_RSD = Column(String(6))\n",
    "    SITE_GRP_ID = Column(String(10))\n",
    "    MW_kD = Column(Integer)\n",
    "    DOMAIN = Column(String(30)) \n",
    "    SITE_7_AA = Column(String(15))\n",
    "    LT_LIT = Column(Integer)\n",
    "    MS_LIT = Column(Integer)\n",
    "    MS_CST = Column(Integer)\n",
    "    CST_CAT = Column(String(141))\n",
    "    SOURCE = Column(String(66))\n",
    "    SEQUENCE = Column(String(3500))\n",
    "    PMID = Column(String(8))\n",
    "    PHOS_ID5 = Column(String(24), primary_key=True)\n",
    "    PHOS_ID = Column(String(31))\n",
    "    PHOS_ID2 = Column(String(26))\n",
    "    PHOS_ID3 = Column(String(32))\n",
    "    PHOS_ID4 = Column(String(25))\n",
    "    ISOFORM = Column(String(10))\n",
    "    ID_PH = Column(String(9))"
   ]
  },
  {
   "cell_type": "code",
   "execution_count": null,
   "metadata": {},
   "outputs": [],
   "source": [
    "class Inhibitors(Base):\n",
    "    __tablename__ = 'inhibitors'\n",
    "    Inhibitor = Column(String(150), primary_key=True)\n",
    "    Ki_nM = Column(Integer) \n",
    "    IC50_nM = Column(Integer) \n",
    "    Kd_nM = Column(Integer) \n",
    "    EC50_nM = Column(Integer) \n",
    "    POC = Column(Integer) \n",
    "    Source = Column(String(15))\n",
    "    IMG_URL = Column(String(100))\n",
    "    ID_IN = Column(String(10))"
   ]
  },
  {
   "cell_type": "code",
   "execution_count": null,
   "metadata": {},
   "outputs": [],
   "source": [
    "class KinasesPhosphosites(Base):\n",
    "    __tablename__ = 'kinases_phosphosites'\n",
    "    GENE = Column(String(13))\n",
    "    KIN_ACC_ID = Column(String(9))\n",
    "    SUB_ACC_ID = Column(String(17))\n",
    "    IN_VIVO_RXN = Column(String(1))\n",
    "    IN_VITRO_RXN = Column(String(1))\n",
    "    CST_CAT = Column(String(141))\n",
    "    SOURCE = Column(String(64))\n",
    "    SEQUENCE = Column(String(8797))\n",
    "    PMID = Column (String(8))\n",
    "    PHOS_ID5 = Column(String(23), ForeignKey('phosphosites.PHOS_ID5'))\n",
    "    PHOS_ID = Column(String(31))\n",
    "    PHOS_ID2 = Column(String(23))\n",
    "    PHOS_ID3 = Column(String(29))\n",
    "    PHOS_ID4 = Column(String(25))\n",
    "    KIN_ACC_ID_2 = Column(String(10), ForeignKey('human_kinases.UniProt_ID'))\n",
    "    ID_KS = Column(String(9), primary_key=True)"
   ]
  },
  {
   "cell_type": "code",
   "execution_count": null,
   "metadata": {},
   "outputs": [],
   "source": [
    "class PhosphositesDiseases(Base):\n",
    "    __tablename__ = 'phosphosites_diseases'\n",
    "    DISEASE = Column(String(92))\n",
    "    ALTERATION = Column(String(32))\n",
    "    ACC_ID = Column(String(16))\n",
    "    PMIDs = Column(String(20))\n",
    "    LT_LIT = Column(String(20))\n",
    "    MS_LIT = Column(String(20))\n",
    "    MS_CST = Column(String(20))\n",
    "    CST_CAT = Column(String(141))\n",
    "    NOTES = Column(String(314))\n",
    "    PHOS_ID = Column(String(22), ForeignKey('phosphosites.PHOS_ID5'))  # duplicates\n",
    "    ID_DP = Column(String(9), primary_key=True)"
   ]
  },
  {
   "cell_type": "code",
   "execution_count": null,
   "metadata": {},
   "outputs": [],
   "source": [
    "class InhibKin(Base):\n",
    "    __tablename__ = 'inhib_kin'\n",
    "    Kinase = Column(String(8))\n",
    "    Inhibitor = Column(String(134), ForeignKey('inhibitors.Inhibitor'))\n",
    "    UniProt_ID = Column(String(6), ForeignKey('human_kinases.UniProt_ID'))\n",
    "    ID_KI = Column(String(9), primary_key=True)"
   ]
  },
  {
   "cell_type": "markdown",
   "metadata": {},
   "source": [
    "__Step 4:__ Define the relationships between the tables within our database"
   ]
  },
  {
   "cell_type": "code",
   "execution_count": null,
   "metadata": {},
   "outputs": [],
   "source": [
    "kinases_phosphosites = relationship(\"KinasesPhosphosites\", backref=\"human_kinases\")\n",
    "inhibitors_kinases = relationship(\"Inhibitors\", backref=\"human_kinases\")\n",
    "\n",
    "phosphosites_kinases = relationship(\"KinasesPhosphosites\", backref=\"phosphosites\")\n",
    "phosphosites_diseases = relationship(\"PhosphositesDiseases\", backref=\"phosphosites\")\n",
    "\n",
    "inhib_kin = relationship(\"InhibKin\", backref=\"inhibitors\")"
   ]
  },
  {
   "cell_type": "markdown",
   "metadata": {},
   "source": [
    "__Step 5:__ The below creates the tables and relationships between the tables that form the basis of our database"
   ]
  },
  {
   "cell_type": "code",
   "execution_count": null,
   "metadata": {},
   "outputs": [],
   "source": [
    "Base.metadata.create_all(engine)"
   ]
  },
  {
   "cell_type": "markdown",
   "metadata": {},
   "source": [
    "__Step 6:__ Loading in the .csv files to populate the database with"
   ]
  },
  {
   "cell_type": "code",
   "execution_count": null,
   "metadata": {
    "scrolled": false
   },
   "outputs": [],
   "source": [
    "kinases=pd.read_csv(\"human_kinase_dataframe.csv\")\n",
    "\n",
    "phosphosites=pd.read_csv(\"phosphosites.csv\")\n",
    "\n",
    "inhibs=pd.read_csv(\"inhibitors.csv\")\n",
    "\n",
    "phospho_kinases=pd.read_csv(\"kinases_phosphosites.csv\")\n",
    "\n",
    "phospho_diseases=pd.read_csv(\"phosphosites_diseases.csv\")\n",
    "\n",
    "inhib_kinases=pd.read_csv(\"inhib_kin.csv\")"
   ]
  },
  {
   "cell_type": "markdown",
   "metadata": {},
   "source": [
    "__Step 7:__ Iterating over the columns of the .csv files, row by row to insert the information into the tables of the database"
   ]
  },
  {
   "cell_type": "code",
   "execution_count": null,
   "metadata": {},
   "outputs": [],
   "source": [
    "for k in range(len(kinases)):\n",
    "    record = HumanKinases(**{\n",
    "        \"UniProt_ID\" : kinases.iloc[k, 0],\n",
    "        \"PDB_ID\" : kinases.iloc[k, 1],\n",
    "        \"PDB_URL\" : kinases.iloc[k, 2],\n",
    "        \"PDB_title\" : kinases.iloc[k, 3],\n",
    "        \"Entry_name\" : kinases.iloc[k, 4],\n",
    "        \"Primary_Protein_Name\" : kinases.iloc[k, 5],\n",
    "        \"Alternative_Protein_Name\" : kinases.iloc[k, 6],\n",
    "        \"Gene_Symbol\" : kinases.iloc[k, 7],\n",
    "        \"Alternative_Gene_Name\" : kinases.iloc[k, 8],\n",
    "        \"Families\" : kinases.iloc[k, 9],\n",
    "        \"AA_Seq\" : kinases.iloc[k, 10],\n",
    "        \"Molecular_Mass\" : kinases.iloc[k, 11],\n",
    "        \"Subcellular_Location\" : kinases.iloc[k, 12]\n",
    "    })\n",
    "    session.add(record) # add all the records\n",
    "\n",
    "session.commit() # commit all the records\n",
    "\n",
    "session.close() # close the connection\n",
    "\n",
    "print (\"Finished\")"
   ]
  },
  {
   "cell_type": "code",
   "execution_count": null,
   "metadata": {},
   "outputs": [],
   "source": [
    "for p in range(len(phosphosites)):\n",
    "    record = Phosphosites(**{\n",
    "        \"GENE\" : phosphosites.iloc[p, 0],\n",
    "        \"PROTEIN\" : phosphosites.iloc[p, 1],\n",
    "        \"ACC_ID\" : phosphosites.iloc[p, 2],\n",
    "        \"HU_CHR_LOC\" : phosphosites.iloc[p, 3],\n",
    "        \"MOD_RSD\" : phosphosites.iloc[p, 4],\n",
    "        \"SITE_GRP_ID\" : phosphosites.iloc[p, 5],\n",
    "        \"MW_kD\" : phosphosites.iloc[p, 6],\n",
    "        \"DOMAIN\" : phosphosites.iloc[p, 7],\n",
    "        \"SITE_7_AA\" : phosphosites.iloc[p, 8],\n",
    "        \"LT_LIT\" : phosphosites.iloc[p, 9],\n",
    "        \"MS_LIT\" : phosphosites.iloc[p, 10],\n",
    "        \"MS_CST\" : phosphosites.iloc[p, 11],\n",
    "        \"CST_CAT\" : phosphosites.iloc[p, 12],\n",
    "        \"SOURCE\" : phosphosites.iloc[p, 13],\n",
    "        \"SEQUENCE\" : phosphosites.iloc[p, 14],\n",
    "        \"PMID\" : str(phosphosites.iloc[p, 15]), # turning into a string to avoid the data being corrupted\n",
    "        \"PHOS_ID5\" : phosphosites.iloc[p, 16],\n",
    "        \"PHOS_ID\" : phosphosites.iloc[p, 17],\n",
    "        \"PHOS_ID2\" : phosphosites.iloc[p, 18],\n",
    "        \"PHOS_ID3\" : phosphosites.iloc[p, 19],\n",
    "        \"PHOS_ID4\" : phosphosites.iloc[p, 20],\n",
    "        \"ISOFORM\" : str(phosphosites.iloc[p, 21]),\n",
    "        \"ID_PH\" : phosphosites.iloc[p, 22]\n",
    "    })\n",
    "    session.add(record) # add all the records\n",
    "\n",
    "session.commit() # commit all the records\n",
    "\n",
    "session.close() # close the connection\n",
    "\n",
    "print (\"Finished\")"
   ]
  },
  {
   "cell_type": "code",
   "execution_count": null,
   "metadata": {},
   "outputs": [],
   "source": [
    "for i in range(len(inhibs)):\n",
    "    record = Inhibitors(**{\n",
    "        \"Inhibitor\" : inhibs.iloc[i, 0],\n",
    "        \"Ki_nM\" : inhibs.iloc[i, 1],\n",
    "        \"IC50_nM\" : inhibs.iloc[i, 2],\n",
    "        \"Kd_nM\" : inhibs.iloc[i, 3],\n",
    "        \"EC50_nM\" : inhibs.iloc[i, 4],\n",
    "        \"POC\" : inhibs.iloc[i, 5],\n",
    "        \"Source\" : inhibs.iloc[i, 6],\n",
    "        \"IMG_URL\" : inhibs.iloc[i, 7],\n",
    "        \"ID_IN\" : inhibs.iloc[i, 8]\n",
    "    })\n",
    "    session.add(record) # add all the records\n",
    "    \n",
    "session.commit() # commit all the records\n",
    "\n",
    "session.close() # close the connection\n",
    "\n",
    "print (\"Finished\")"
   ]
  },
  {
   "cell_type": "code",
   "execution_count": null,
   "metadata": {},
   "outputs": [],
   "source": [
    "for kp in range(len(phospho_kinases)):\n",
    "    record = KinasesPhosphosites(**{\n",
    "        \"GENE\" : phospho_kinases.iloc[kp, 0],\n",
    "        \"KIN_ACC_ID\" : phospho_kinases.iloc[kp, 1],\n",
    "        \"SUB_ACC_ID\" : phospho_kinases.iloc[kp, 2],\n",
    "        \"IN_VIVO_RXN\" : phospho_kinases.iloc[kp, 3],\n",
    "        \"IN_VITRO_RXN\" : phospho_kinases.iloc[kp, 4],\n",
    "        \"CST_CAT\" : phospho_kinases.iloc[kp, 5],\n",
    "        \"SOURCE\" : phospho_kinases.iloc[kp, 6],\n",
    "        \"SEQUENCE\" : phospho_kinases.iloc[kp, 7],\n",
    "        \"PMID\" : str(phospho_kinases.iloc[kp, 8]), # turning into a string to avoid the data being corrupted\n",
    "        \"PHOS_ID5\" : phospho_kinases.iloc[kp, 9],\n",
    "        \"PHOS_ID\" : phospho_kinases.iloc[kp, 10],\n",
    "        \"PHOS_ID2\" : phospho_kinases.iloc[kp, 11],\n",
    "        \"PHOS_ID3\" : phospho_kinases.iloc[kp, 12],\n",
    "        \"PHOS_ID4\" : phospho_kinases.iloc[kp, 13],        \n",
    "        \"KIN_ACC_ID_2\" : phospho_kinases.iloc[kp, 14],\n",
    "        \"ID_KS\" : phospho_kinases.iloc[kp, 15]\n",
    "    })\n",
    "    session.add(record) # add all the records\n",
    "    \n",
    "session.commit() # commit all the records\n",
    "\n",
    "session.close() # close the connection\n",
    "\n",
    "print (\"Finished\")"
   ]
  },
  {
   "cell_type": "code",
   "execution_count": null,
   "metadata": {},
   "outputs": [],
   "source": [
    "for dp in range(len(phospho_diseases)):\n",
    "    record = PhosphositesDiseases(**{\n",
    "        \"DISEASE\" : phospho_diseases.iloc[dp, 0],\n",
    "        \"ALTERATION\" : phospho_diseases.iloc[dp, 1],\n",
    "        \"ACC_ID\" : phospho_diseases.iloc[dp, 2],\n",
    "        \"PMIDs\" : str(phospho_diseases.iloc[dp, 3]), # turning into a string to avoid the data being corrupted\n",
    "        \"LT_LIT\" : str(phospho_diseases.iloc[dp, 4]), # turning into a string to avoid the data being corrupted\n",
    "        \"MS_LIT\" : str(phospho_diseases.iloc[dp, 5]), # turning into a string to avoid the data being corrupted\n",
    "        \"MS_CST\" : str(phospho_diseases.iloc[dp, 6]), # turning into a string to avoid the data being corrupted\n",
    "        \"CST_CAT\" : phospho_diseases.iloc[dp, 7],\n",
    "        \"NOTES\" : phospho_diseases.iloc[dp, 8],\n",
    "        \"PHOS_ID\" : phospho_diseases.iloc[dp, 9],\n",
    "        \"ID_DP\" : phospho_diseases.iloc[dp, 10]\n",
    "    })\n",
    "    session.add(record) # add all the records\n",
    "    \n",
    "session.commit() # commit all the records\n",
    "\n",
    "session.close() # close the connection\n",
    "\n",
    "print (\"Finished\")"
   ]
  },
  {
   "cell_type": "code",
   "execution_count": null,
   "metadata": {},
   "outputs": [],
   "source": [
    "for ik in range(len(inhib_kinases)):\n",
    "    record = InhibKin(**{\n",
    "        \"Kinase\" : inhib_kinases.iloc[ik, 0],\n",
    "        \"Inhibitor\" : inhib_kinases.iloc[ik, 1],\n",
    "        \"UniProt_ID\" : inhib_kinases.iloc[ik, 2],\n",
    "        \"ID_KI\" : inhib_kinases.iloc[ik, 3]\n",
    "    })\n",
    "    session.add(record) # add all the records\n",
    "    \n",
    "session.commit() # commit all the records\n",
    "\n",
    "session.close() # close the connection\n",
    "\n",
    "print (\"Finished\")"
   ]
  }
 ],
 "metadata": {
  "kernelspec": {
   "display_name": "Python 3",
   "language": "python",
   "name": "python3"
  },
  "language_info": {
   "codemirror_mode": {
    "name": "ipython",
    "version": 3
   },
   "file_extension": ".py",
   "mimetype": "text/x-python",
   "name": "python",
   "nbconvert_exporter": "python",
   "pygments_lexer": "ipython3",
   "version": "3.7.4"
  }
 },
 "nbformat": 4,
 "nbformat_minor": 2
}
