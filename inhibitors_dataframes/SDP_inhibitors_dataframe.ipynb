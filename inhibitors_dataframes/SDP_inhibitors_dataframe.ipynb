{
 "cells": [
  {
   "cell_type": "markdown",
   "metadata": {},
   "source": [
    "### BIO727P - Bioinformatics Software Development Group Project (2019/20)"
   ]
  },
  {
   "cell_type": "markdown",
   "metadata": {},
   "source": [
    "#### AIM: To retrive information about kinases inhibitors from various databases and compile into two tables"
   ]
  },
  {
   "cell_type": "code",
   "execution_count": null,
   "metadata": {},
   "outputs": [],
   "source": [
    "# Python version: Python 3.7.4\n",
    "\n",
    "# import the required packages\n",
    "\n",
    "!pip install pandas\n",
    "\n",
    "import pandas as pd # import pandas\n",
    "import re # import regular expression\n",
    "import urllib.request # import url library module\n"
   ]
  },
  {
   "cell_type": "markdown",
   "metadata": {},
   "source": [
    "__Step 1:__ Load in the list of UniProt accession numbers to put into BindingDB"
   ]
  },
  {
   "cell_type": "code",
   "execution_count": null,
   "metadata": {},
   "outputs": [],
   "source": [
    "uniprot_IDs=pd.read_csv(\"uniprot_acc_nums.csv\")\n",
    "uniprot=list(uniprot_IDs.UniProt_ID) # load in uniprot accession numbers and convert to list"
   ]
  },
  {
   "cell_type": "markdown",
   "metadata": {},
   "source": [
    "__Step 2:__ Using the BindingDB API system, retrieve the relevant information related to all the ligands that bind to the kinases from the UniProt list"
   ]
  },
  {
   "cell_type": "code",
   "execution_count": null,
   "metadata": {},
   "outputs": [],
   "source": [
    "# open empty lists to become dataframe columns\n",
    "\n",
    "UniProtKB=[]\n",
    "monomerid=[]\n",
    "bindingDB_ID=[]\n",
    "failed_uniprot=[]\n",
    "Ki=[] \n",
    "IC50=[]\n",
    "Kd=[]\n",
    "EC50=[]\n",
    "\n",
    "for u in range(len(uniprot)):\n",
    "    try:\n",
    "        # open up the bindingDB API URL to retrieve the ligands associated with the human kinases\n",
    "        binding_url=\"http://www.bindingdb.org/axis2/services/BDBService/getLigandsByUniprots?uniprot=\"+uniprot[u]+\"&&code=0&response=json\"\n",
    "        binding_webpage=urllib.request.urlopen(binding_url)\n",
    "        binding_file=binding_webpage.read().decode()\n",
    "        # using regex, extract a single monomer/ligand entry\n",
    "        entry=re.findall(r\"<affinities>(.*?)</affinities>\", binding_file)\n",
    "        \n",
    "        for e in range(len(entry)):\n",
    "            \n",
    "            try:\n",
    "                # extract the monomer id and append it to a list - also append the uniprot id to another list\n",
    "                # this stage is essentially mapping the bindingDB ID to the uniprot id it is associated with\n",
    "                ID_pattern=re.compile(r\"<monomerid>([0-9]+)</monomerid>\")\n",
    "                ID_match=ID_pattern.search(entry[e])\n",
    "                monomerid.append(ID_match.group(1))\n",
    "                UniProtKB.append(uniprot[u])\n",
    "            except:\n",
    "                monomerid.append(\"N/A\")\n",
    "            \n",
    "            try:\n",
    "                # adding \"BDBM\" infront of the monomer id converts it into the bindingdb accession number\n",
    "                ID_pattern=re.compile(r\"<monomerid>([0-9]+)</monomerid>\")\n",
    "                ID_match=ID_pattern.search(entry[e])\n",
    "                bindingDB_ID.append(\"BDBM\"+ID_match.group(1))\n",
    "            except:\n",
    "                bindingDB_ID.append(\"N/A\")\n",
    "\n",
    "            try:\n",
    "                # extracting the Ki (inhibitor constant) of the ligand\n",
    "                ki_pattern=re.compile(r\"<affinity_type>Ki</affinity_type><affinity>(.*?)</affinity>\")\n",
    "                ki_match=ki_pattern.search(entry[e])\n",
    "                Ki.append(ki_match.group(1).replace(\"&gt;\", \"\").replace(\"&lt;\", \"\"))\n",
    "            except:\n",
    "                Ki.append(\"N/A\")\n",
    "\n",
    "            try:\n",
    "                # extracting the IC50 of the ligand\n",
    "                # IC50 is the concentration of an inhibitor where the response (or binding) is reduced by half\n",
    "                ic50_pattern=re.compile(r\"<affinity_type>IC50</affinity_type><affinity>(.*?)</affinity>\")\n",
    "                ic50_match=ic50_pattern.search(entry[e])\n",
    "                IC50.append(ic50_match.group(1).replace(\"&gt;\", \"\").replace(\"&lt;\", \"\"))\n",
    "            except:\n",
    "                IC50.append(\"N/A\")\n",
    "    \n",
    "            try:\n",
    "                # extracting the Kd (dissociation constant) of the ligand\n",
    "                kd_pattern=re.compile(r\"<affinity_type>Kd</affinity_type><affinity>(.*?)</affinity>\")\n",
    "                kd_match=kd_pattern.search(entry[e])\n",
    "                Kd.append(kd_match.group(1).replace(\"&gt;\", \"\").replace(\"&lt;\", \"\"))\n",
    "            except:\n",
    "                Kd.append(\"N/A\")\n",
    "    \n",
    "            try:\n",
    "                # extracting the EC50 of the ligand\n",
    "                # EC50 is the concentration of a drug that gives half-maximal response\n",
    "                ec50_pattern=re.compile(r\"<affinity_type>EC50</affinity_type><affinity>(.*?)</affinity>\")\n",
    "                ec50_match=ec50_pattern.search(entry[e])\n",
    "                EC50.append(ec50_match.group(1).replace(\"&gt;\", \"\").replace(\"&lt;\", \"\"))\n",
    "            except:\n",
    "                EC50.append(\"N/A\")\n",
    "    \n",
    "    except:\n",
    "        # any uniprot ids that can't be found on bindingdb will be appended to this list\n",
    "        failed_uniprot.append(uniprot[u])\n",
    "        continue"
   ]
  },
  {
   "cell_type": "markdown",
   "metadata": {},
   "source": [
    "__Step 3:__ Convert the monomer IDs (based on BindingDB IDs) into chEMBL IDs using the UniChem API system and append the resulting IDs to a list"
   ]
  },
  {
   "cell_type": "code",
   "execution_count": null,
   "metadata": {},
   "outputs": [],
   "source": [
    "# open new lists to append information to\n",
    "\n",
    "chEMBL_ID=[]\n",
    "failed_list=[]\n",
    "\n",
    "counts=0\n",
    "\n",
    "for b in range(len(monomerid)):\n",
    "    try:\n",
    "        # this url takes a query monomerid/bindingdb id and maps it to a chEMBL ID\n",
    "        unichem_url=\"https://www.ebi.ac.uk/unichem/rest/src_compound_id/\"+monomerid[b]+\"/31\"\n",
    "        unichem_webpage=urllib.request.urlopen(unichem_url)\n",
    "        unichem_file=unichem_webpage.read().decode()\n",
    "        \n",
    "        # add a counter to check on the progress of the script\n",
    "        counts=counts+1\n",
    "        print (counts)\n",
    "        \n",
    "        try:\n",
    "            # using regex extract the chEMBL ID\n",
    "            chembl_pattern=re.compile(r\"{\\\"src_id\\\":\\\"1\\\",\\\"src_compound_id\\\":\\\"(.*?)\\\"}\")\n",
    "            chembl_match=chembl_pattern.search(unichem_file)\n",
    "            chEMBL_ID.append(chembl_match.group(1))\n",
    "        except:\n",
    "            # if bindingdb id can't be mapped to the chembl id then append an N/A\n",
    "            chEMBL_ID.append(\"N/A\")\n",
    "        \n",
    "    except:\n",
    "        # any errors that occur can be appended to the failed list\n",
    "        failed_list.append(monomerid[b])\n",
    "        chEMBL_ID.append(\"N/A\")\n",
    "        pass"
   ]
  },
  {
   "cell_type": "markdown",
   "metadata": {},
   "source": [
    "__Step 4:__ Make a new dataframe and append all the information gathered so far"
   ]
  },
  {
   "cell_type": "code",
   "execution_count": null,
   "metadata": {},
   "outputs": [],
   "source": [
    "# make a new dataframe and append all the lists that have been created\n",
    "\n",
    "df1=pd.DataFrame({'UniProtID' : UniProtKB})\n",
    "df1['BindingDB_ID']=bindingDB_ID\n",
    "df1['Monomer_ID']=monomerid\n",
    "df1['chEMBL_ID']=chEMBL_ID\n",
    "df1['Ki_nM']=Ki\n",
    "df1['IC50_nM']=IC50\n",
    "df1['Kd_nM']=Kd\n",
    "df1['EC50_nM']=EC50"
   ]
  },
  {
   "cell_type": "markdown",
   "metadata": {},
   "source": [
    "__Step 5:__ Remove all \"N/A\"s in the chEMBL ID column as they can't be mapped from BindingDB "
   ]
  },
  {
   "cell_type": "code",
   "execution_count": null,
   "metadata": {},
   "outputs": [],
   "source": [
    "chEMBL_inhibs=df1[df1.chEMBL_ID != \"N/A\"] # remove rows where chEMBL_ID == \"N/A\", these are not useful for the next phase"
   ]
  },
  {
   "cell_type": "markdown",
   "metadata": {},
   "source": [
    "__Step 6:__ Create the basis of the inhibitor_kinases relationships table, i.e. a table that maps UniProt ID to its associated BindingDB ID"
   ]
  },
  {
   "cell_type": "code",
   "execution_count": null,
   "metadata": {},
   "outputs": [],
   "source": [
    "# removing the monomerid, chembl id, and other information related to the properties of the kinase\n",
    "# this table acts as a mapping device, it relates uniprot ids to bindingdb ids\n",
    "\n",
    "inhib_kin=chEMBL_inhibs.drop(\"Monomer_ID\", axis=1)\n",
    "inhib_kin=inhib_kin.drop(\"chEMBL_ID\", axis=1)\n",
    "inhib_kin=inhib_kin.drop(\"Ki_nM\", axis=1)\n",
    "inhib_kin=inhib_kin.drop(\"IC50_nM\", axis=1)\n",
    "inhib_kin=inhib_kin.drop(\"Kd_nM\", axis=1)\n",
    "inhib_kin=inhib_kin.drop(\"EC50_nM\", axis=1)"
   ]
  },
  {
   "cell_type": "markdown",
   "metadata": {},
   "source": [
    "__Step 7:__ From the original chEMBL_inhibs dataframe, remove the UniProt IDs and monomer IDs to create the basis of the inhibitors table, dropping duplicates of inhibitor IDs as we only want this table to act like a dictionary for inhibitors"
   ]
  },
  {
   "cell_type": "code",
   "execution_count": null,
   "metadata": {},
   "outputs": [],
   "source": [
    "# create a basis of the inhibitors table by removing uniprot id and monomer id\n",
    "# for this table, we only require one record of every inhibitor, thus we remove duplicates of chEMBL IDs \n",
    "\n",
    "bdb_to_chEMBL=chEMBL_inhibs.drop(\"UniProt_ID\", axis=1)\n",
    "\n",
    "bdb_to_chEMBL=bdb_to_chEMBL.drop(\"Monomer_ID\", axis=1)\n",
    "\n",
    "bdb_to_chEMBL=bdb_to_chEMBL.drop_duplicates(subset=['chEMBL_ID'], keep='first')"
   ]
  },
  {
   "cell_type": "markdown",
   "metadata": {},
   "source": [
    "__Step 8:__ Create a list of all the chEMBL IDs and insert them into a URL to retrieve the page source code. Using this HTML code, using regular expressions we can parse the page and extract the relevant information for each inhibitor. If a chEMBL entry does not have a name associated with it, then it will be skipped"
   ]
  },
  {
   "cell_type": "code",
   "execution_count": null,
   "metadata": {},
   "outputs": [],
   "source": [
    "ch_id=list(bdb_to_chEMBL.chEMBL_ID) # extract chEMBL IDs as a list"
   ]
  },
  {
   "cell_type": "code",
   "execution_count": null,
   "metadata": {},
   "outputs": [],
   "source": [
    "# open lists to append information to\n",
    "\n",
    "chEMBL=[]\n",
    "molecule_name=[]\n",
    "molecule_type=[]\n",
    "molecular_formula=[]\n",
    "molecular_weight=[]\n",
    "synonyms=[]\n",
    "\n",
    "failed_list=[]\n",
    "\n",
    "counter = 0\n",
    "\n",
    "for c in range(len(ch_id)):\n",
    "    # open the compound id page for each element in the list\n",
    "    ebi_url=\"https://www.ebi.ac.uk/chembl/compound_report_card/\"+ch_id[c]+\"/\"\n",
    "    ebi_webpage=urllib.request.urlopen(ebi_url)\n",
    "    ebi_file=ebi_webpage.read().decode()\n",
    "    \n",
    "    # add a counter to check the progress of the loop\n",
    "    counter = counter + 1\n",
    "    print (counter)\n",
    "    \n",
    "    try:\n",
    "        # as some chembl id entries don't have an inhibitor name associated with them in the 'Compound:' field, but do have a \n",
    "        # name associated with it in the 'Synonyms:' field, to avoid including inhibitors without an official name, we can \n",
    "        # skip those entries as they won't be as useful to us\n",
    "        \n",
    "        syn_pattern=re.compile(r\"Synonyms: (.*?)\\\"/>\")\n",
    "        syn_match=syn_pattern.search(ebi_file)\n",
    "        \n",
    "        name_pattern=re.compile(r\"Compound: (.*?)\\\"\\/\")\n",
    "        name_match=name_pattern.search(ebi_file)\n",
    "        \n",
    "        # once the entry has an inhibitor name and synonyms associated with it, we can extract the other information associated\n",
    "        # with the inhibitor\n",
    "        info_pattern=re.compile(r\"Molecule Type: (.*?), Molecular Formula: (.*?), Molecular Weight: (.*?), Synonyms: (.*?)\\\"/>\")\n",
    "        info_match=info_pattern.search(ebi_file)\n",
    "            \n",
    "        molecule_type.append(info_match.group(1))\n",
    "        molecular_formula.append(info_match.group(2))\n",
    "        molecular_weight.append(info_match.group(3))\n",
    "        synonyms.append(info_match.group(4).replace(\";\", \", \"))\n",
    "        \n",
    "        # also append the chembl id to the list so we know which accession number the info is associated with\n",
    "        chEMBL.append(ch_id[c])\n",
    "            \n",
    "        # sometimes the molecule name is just the chEMBL ID so to avoid that, we can append the synonym instead\n",
    "        if name_match.group(1) == ch_id[c]:\n",
    "            molecule_name.append(info_match.group(4))\n",
    "        elif name_match.group(1) != ch_id[c]:\n",
    "            molecule_name.append(name_match.group(1))\n",
    "    except:\n",
    "        # if there's no molecule name associated with the entry, we append it to the failed list\n",
    "        failed_list.append(ch_id[c])\n",
    "        pass"
   ]
  },
  {
   "cell_type": "markdown",
   "metadata": {},
   "source": [
    "__Step 9:__ Create a new dataframe with the information extracted from chEMBL"
   ]
  },
  {
   "cell_type": "code",
   "execution_count": null,
   "metadata": {},
   "outputs": [],
   "source": [
    "df2=pd.DataFrame({'chEMBL_ID' : chEMBL})\n",
    "df2['Molecule_name']=molecule_name\n",
    "df2['Molecule_type']=molecule_type\n",
    "df2['Molecular_formula']=molecular_formula\n",
    "df2['Molecular_weight']=molecular_weight\n",
    "df2['Synonyms']=synonyms"
   ]
  },
  {
   "cell_type": "markdown",
   "metadata": {},
   "source": [
    "__Step 10:__ Download the dataframe and clean it up manually. Some entries will have two names in the 'Molecule_name' column, and some other names are displayed in a corrupted way on the HTML source code, and thus need to be re-entered manually. Also in the 'Molecule_name' column some names with a dash in them, that match the names in the 'Synonyms' column can be removed. Lastly, in 'Synonyms', there is a string 'Trade Names:' which can be removed as well. "
   ]
  },
  {
   "cell_type": "code",
   "execution_count": null,
   "metadata": {},
   "outputs": [],
   "source": [
    "df2.to_csv(\"chembl_inhibitors.csv\") # download it and clean it up manually"
   ]
  },
  {
   "cell_type": "markdown",
   "metadata": {},
   "source": [
    "__Step 10:__ Re-load the cleaned dataframe back into the script"
   ]
  },
  {
   "cell_type": "code",
   "execution_count": null,
   "metadata": {},
   "outputs": [],
   "source": [
    "inhibs_df=pd.read_csv(\"chembl_inhibitors.csv\")"
   ]
  },
  {
   "cell_type": "markdown",
   "metadata": {},
   "source": [
    "__Step 11:__ Merge the dataframe that contains information from BindingDB with the dataframe that contains information from chEMBL based on the chEMBL ID. This forms the basis of the inhibitors table"
   ]
  },
  {
   "cell_type": "code",
   "execution_count": null,
   "metadata": {},
   "outputs": [],
   "source": [
    "inhibs=bdb_to_chEMBL.merge(inhibs_df, on=\"chEMBL_ID\")"
   ]
  },
  {
   "cell_type": "markdown",
   "metadata": {},
   "source": [
    "__Step 12:__ As some of the chEMBL IDs were skipped due to not having a commercial name given to it, we need to remove the entries in the inhibitor-kinase relationships table that are associated with a BindingDB ID that is no longer found in the inhibitors table"
   ]
  },
  {
   "cell_type": "code",
   "execution_count": null,
   "metadata": {},
   "outputs": [],
   "source": [
    "binding_list=list(inhibs.BindingDB_ID) # list of bindingdb ids from the inhibitors list"
   ]
  },
  {
   "cell_type": "code",
   "execution_count": null,
   "metadata": {},
   "outputs": [],
   "source": [
    "inhib_kin_binding_list=list(inhib_kin.BindingDB_ID) # list of bindingdb ids from the inhib-kin list"
   ]
  },
  {
   "cell_type": "code",
   "execution_count": null,
   "metadata": {},
   "outputs": [],
   "source": [
    "# if the bindingdb id from inhib-kin isn't in the bindingdb ids list from the inhibitors list, then append the index of the\n",
    "# inhib-kin bindingbd id\n",
    "\n",
    "unwanted_index=[]\n",
    "\n",
    "for x in range(len(inhib_kin_binding_list)):\n",
    "    ik_bdb=inhib_kin_binding_list[x]\n",
    "    if ik_bdb not in binding_list:\n",
    "        unwanted_index.append(x)"
   ]
  },
  {
   "cell_type": "code",
   "execution_count": null,
   "metadata": {},
   "outputs": [],
   "source": [
    "inhib_kin2=inhib_kin.drop(unwanted_index) # drop the bindingdb ids that aren't in the inhibs table"
   ]
  },
  {
   "cell_type": "markdown",
   "metadata": {},
   "source": [
    "__Step 13:__ Populate the inhibitor-kinase relationship table by adding the chEMBL ID and inhibitor name for each UniProtID to BindingBDID mapping"
   ]
  },
  {
   "cell_type": "code",
   "execution_count": null,
   "metadata": {},
   "outputs": [],
   "source": [
    "# extract a list of bindingdb ids that map to the uniprot ids\n",
    "\n",
    "new_binding=list(inhib_kin2.BindingDB_ID) "
   ]
  },
  {
   "cell_type": "code",
   "execution_count": null,
   "metadata": {},
   "outputs": [],
   "source": [
    "# extract the inhibitor information we want to put into the inhib-kin table\n",
    "\n",
    "b=list(inhibs.BindingDB_ID)\n",
    "c=list(inhibs.chEMBL_ID)\n",
    "n=list(inhibs.Molecule_name)"
   ]
  },
  {
   "cell_type": "code",
   "execution_count": null,
   "metadata": {},
   "outputs": [],
   "source": [
    "# open some new lists to append to the inhib-kin dataframe\n",
    "\n",
    "c_list=[]\n",
    "n_list=[]\n",
    "\n",
    "# this loops acts like dictionary. it takes the bindingdb id of the inhib-kin list (that maps to the uniprot id), and then finds\n",
    "# the index of it in the inhibitor bindingdb id list, using this index we can acquire the chEMBL ID and molecule name from the\n",
    "# inhibitors table and append it to the c and n lists to form the columns of the inhib-kin dataframe\n",
    "\n",
    "for y in range(len(new_binding)):\n",
    "    iden=new_binding[y]\n",
    "    i=b.index(iden)\n",
    "    c_list.append(c[i])\n",
    "    n_list.append(n[i])"
   ]
  },
  {
   "cell_type": "markdown",
   "metadata": {},
   "source": [
    "__Step 14:__ Create unique accession numbers for each entry in the inhibitor-kinase relationships table"
   ]
  },
  {
   "cell_type": "code",
   "execution_count": null,
   "metadata": {},
   "outputs": [],
   "source": [
    "# doing this by adding numbers 0-end of list to \"IK\" \n",
    "\n",
    "inki=[]\n",
    "\n",
    "for f in range(len(c_list)):\n",
    "    inki.append(\"IK\"+str(f))"
   ]
  },
  {
   "cell_type": "markdown",
   "metadata": {},
   "source": [
    "__Step 15:__ Append the populated columns to the dataframe"
   ]
  },
  {
   "cell_type": "code",
   "execution_count": null,
   "metadata": {},
   "outputs": [],
   "source": [
    "# append the information to the inhib-kin dataframe\n",
    "\n",
    "inhib_kin2['chEMBL_ID']=c_list\n",
    "inhib_kin2['Molecule_name']=n_list\n",
    "inhib_kin2['IN_KI']=inki"
   ]
  },
  {
   "cell_type": "markdown",
   "metadata": {},
   "source": [
    "__Step 16:__ Create unique accession numbers for each inhibitor in the inhibitor table and append it to the inhibitors dataframe"
   ]
  },
  {
   "cell_type": "code",
   "execution_count": null,
   "metadata": {},
   "outputs": [],
   "source": [
    "# doing this by adding numbers 0-end of list to \"IN\" \n",
    "\n",
    "i_list=list(inhibs.BindingDB_ID)\n",
    "\n",
    "inhi=[]\n",
    "\n",
    "for z in range(len(i_list)):\n",
    "    inhi.append(\"IN\"+str(z))"
   ]
  },
  {
   "cell_type": "code",
   "execution_count": null,
   "metadata": {},
   "outputs": [],
   "source": [
    "# add the unique accession numbers to the inhibitors dataframe\n",
    "\n",
    "inhibs['IN_ID']=inhi"
   ]
  },
  {
   "cell_type": "markdown",
   "metadata": {},
   "source": [
    "__Step 17:__ Construct image URLs using the chEMBL API system and append the URL list to the inhibitors dataframe"
   ]
  },
  {
   "cell_type": "code",
   "execution_count": null,
   "metadata": {},
   "outputs": [],
   "source": [
    "# the URL has the same basis, so we can just sub in the chEMBLID into the template to acquire it\n",
    "\n",
    "chEMBL_URL=[]\n",
    "\n",
    "for w in range(len(c)):\n",
    "    chEMBL_URL.append(\"https://www.ebi.ac.uk/chembl/api/data/image/\"+c[w]+\".png?bgColor=white\")"
   ]
  },
  {
   "cell_type": "code",
   "execution_count": null,
   "metadata": {},
   "outputs": [],
   "source": [
    "# append the URL list to the dataframe\n",
    "\n",
    "inhibs['chEMBL_URL']=chEMBL_URL"
   ]
  },
  {
   "cell_type": "markdown",
   "metadata": {},
   "source": [
    "__Step 18:__ Manually add some entries that are known to exist but got excluded due to lack of linking up of resources, and finally export the dataframes as .csv files"
   ]
  },
  {
   "cell_type": "code",
   "execution_count": null,
   "metadata": {},
   "outputs": [],
   "source": [
    "# make lists and add the relevant information for the inhibitors table\n",
    "\n",
    "BindingDB_ID=[\"BDBM50398336\", \"BDBM17052\", \"BDBM50427326\"]\n",
    "chEMBL_ID=[\"CHEMBL2178577\", \"CHEMBL3916849\", \"CHEMBL2325697\"]\n",
    "Ki=[\"\", \"\", \"\"]\n",
    "IC50=[\"0.17\", \"12\", \"2400\"]\n",
    "Kd=[\"\", \"\", \"\"]\n",
    "EC50=[\"\", \"\", \"\"]\n",
    "Molecule_name=[\"AZD5363\", \"BX912\", \"AZ20\"]\n",
    "Molecule_type=[\"Small Molecule\", \"Small Molecule\", \"Small Molecule\"]\n",
    "Molecular_formula=[\"C32H44F2N2O5S2\", \"C20H23BrN8O\", \"C21H24N4O3S\"]\n",
    "Molecular_weight=[\"638.84\", \"471.36\", \"412.52\"]\n",
    "Synonyms=[\"AZD-5363, AZD-5672\", \"BX-912\", \"AZ-20\"]\n",
    "IN_ID=[\"IN1429\", \"IN1430\", \"IN1431\"]\n",
    "chEMBL_URL=[\"https://www.ebi.ac.uk/chembl/api/data/image/CHEMBL2178577.png?bgColor=white\", \n",
    "            \"https://www.ebi.ac.uk/chembl/api/data/image/CHEMBL3916849.png?bgColor=white\", \n",
    "            \"https://www.ebi.ac.uk/chembl/api/data/image/CHEMBL2325697.png?bgColor=white\"]"
   ]
  },
  {
   "cell_type": "code",
   "execution_count": null,
   "metadata": {},
   "outputs": [],
   "source": [
    "# create a new dataframe with the information\n",
    "\n",
    "extra_i=pd.DataFrame({'BindingDB_ID' : BindingDB_ID})\n",
    "extra_i['chEMBL_ID']=chEMBL_ID\n",
    "extra_i['Ki_nM']=Ki\n",
    "extra_i['IC50_nM']=IC50\n",
    "extra_i['Kd_nM']=Kd\n",
    "extra_i['EC50_nM']=EC50\n",
    "extra_i['Molecule_name']=Molecule_name\n",
    "extra_i['Molecule_type']=Molecule_type\n",
    "extra_i['Molecular_formula']=Molecular_formula\n",
    "extra_i['Molecular_weight']=Molecular_weight\n",
    "extra_i['Synonyms']=Synonyms\n",
    "extra_i['IN_ID']=IN_ID\n",
    "extra_i['chEMBL_URL']=chEMBL_URL"
   ]
  },
  {
   "cell_type": "code",
   "execution_count": null,
   "metadata": {},
   "outputs": [],
   "source": [
    "# merge the two dataframes together and export as a .csv file\n",
    "\n",
    "frames=[inhibs, extra_i]\n",
    "result = pd.concat(frames)\n",
    "result.to_csv(\"inhibitors_dataframe.csv\", index=False)"
   ]
  },
  {
   "cell_type": "code",
   "execution_count": null,
   "metadata": {},
   "outputs": [],
   "source": [
    "# make lists and add the relevant information for the inhibitors-kinases relaionships table\n",
    "\n",
    "UniProtKB=[\"P31749\", \"P31751\", \"Q9Y243\", \"O14965\", \"Q13535\", \"P78527\", \"Q13315\", \"P42336\", \"P42345\"]\n",
    "BindingDB_ID=[\"BDBM50398336\", \"BDBM50398336\", \"BDBM50398336\", \"BDBM17052\", \"BDBM50427326\", \"BDBM50427326\", \"BDBM50427326\", \n",
    "              \"BDBM50427326\", \"BDBM50427326\"]\n",
    "chEMBL_ID=[\"CHEMBL2178577\", \"CHEMBL2178577\", \"CHEMBL2178577\", \"CHEMBL3916849\", \"CHEMBL2325697\", \"CHEMBL2325697\", \"CHEMBL2325697\", \n",
    "           \"CHEMBL2325697\", \"CHEMBL2325697\"]\n",
    "Molecule_name=[\"AZD5363\", \"AZD5363\", \"AZD5363\", \"BX912\", \"AZ20\", \"AZ20\", \"AZ20\", \"AZ20\", \"AZ20\"]\n",
    "IN_KI=[\"IK54753\", \"IK54754\", \"IK54755\", \"IK54756\", \"IK54757\", \"IK54758\", \"IK54759\", \"IK54760\", \"IK54761\"]"
   ]
  },
  {
   "cell_type": "code",
   "execution_count": null,
   "metadata": {},
   "outputs": [],
   "source": [
    "# create a new dataframe with the information\n",
    "\n",
    "extra_inhibs=pd.DataFrame({'UniProt_ID' : UniProtKB})\n",
    "extra_inhibs['BindingDB_ID']=BindingDB_ID\n",
    "extra_inhibs['chEMBL_ID']=chEMBL_ID\n",
    "extra_inhibs['Molecule_name']=Molecule_name\n",
    "extra_inhibs['IN_KI']=IN_KI"
   ]
  },
  {
   "cell_type": "code",
   "execution_count": null,
   "metadata": {},
   "outputs": [],
   "source": [
    "# merge the two dataframes together and export as a .csv file\n",
    "\n",
    "frames2=[inhib_kin2, extra_inhibs]\n",
    "result2 = pd.concat(frames2)\n",
    "result2.to_csv(\"inhib_kin_dataframe.csv\", index=False)"
   ]
  }
 ],
 "metadata": {
  "kernelspec": {
   "display_name": "Python 3",
   "language": "python",
   "name": "python3"
  },
  "language_info": {
   "codemirror_mode": {
    "name": "ipython",
    "version": 3
   },
   "file_extension": ".py",
   "mimetype": "text/x-python",
   "name": "python",
   "nbconvert_exporter": "python",
   "pygments_lexer": "ipython3",
   "version": "3.7.4"
  }
 },
 "nbformat": 4,
 "nbformat_minor": 2
}
