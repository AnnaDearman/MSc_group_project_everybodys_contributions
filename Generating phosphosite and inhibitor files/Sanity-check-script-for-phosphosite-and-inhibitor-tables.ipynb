{
 "cells": [
  {
   "cell_type": "markdown",
   "metadata": {},
   "source": [
    "# Sanity Checking csv Files for Database"
   ]
  },
  {
   "cell_type": "markdown",
   "metadata": {},
   "source": [
    "Import required packages"
   ]
  },
  {
   "cell_type": "code",
   "execution_count": null,
   "metadata": {},
   "outputs": [],
   "source": [
    "import pandas as pd"
   ]
  },
  {
   "cell_type": "markdown",
   "metadata": {},
   "source": [
    "Read in data files"
   ]
  },
  {
   "cell_type": "code",
   "execution_count": null,
   "metadata": {},
   "outputs": [],
   "source": [
    "# Include human kinase dataframe, and quantitative phopshoproteomics file\n",
    "\n",
    "human_kinases = pd.read_csv( \"human_kinase_dataframe.csv\" )\n",
    "phosphosites = pd.read_csv( \"phosphosites.csv\" )\n",
    "kinases_phosphosites = pd.read_csv( \"kinases_phosphosites.csv\" )\n",
    "phosphosites_diseases = pd.read_csv( \"phosphosites_diseases.csv\" )\n",
    "inhibitors = pd.read_csv( \"inhibitors.csv\" )\n",
    "inhib_kin = pd.read_csv( \"inhib_kin.csv\" )\n",
    "qp = pd.read_table( \"az20.tsv\" )"
   ]
  },
  {
   "cell_type": "markdown",
   "metadata": {},
   "source": [
    "Ensure foreign keys in child tables are all present in parent tables"
   ]
  },
  {
   "cell_type": "code",
   "execution_count": null,
   "metadata": {},
   "outputs": [],
   "source": [
    "# Parent:\n",
    "parent_phos = list( phosphosites.PHOS_ID5 )\n",
    "\n",
    "# Children:\n",
    "child_phos_k = list( kinases_phosphosites.PHOS_ID5 )\n",
    "child_phos_d = list( phosphosites_diseases.PHOS_ID )"
   ]
  },
  {
   "cell_type": "code",
   "execution_count": null,
   "metadata": {},
   "outputs": [],
   "source": [
    "yes = 0\n",
    "no = 0\n",
    "missing = []\n",
    "\n",
    "for i in child_phos_k:\n",
    "    if i in parent_phos:\n",
    "        yes += 1\n",
    "    else:\n",
    "        no += 1\n",
    "        missing.append( i )\n",
    "\n",
    "print( \"Kinase-phosphosite table contains \" + str( len( child_phos_k ) ) + \" phosphosite IDs, \"\n",
    "     + str( yes ) + \" of which are in the phosphosite table, \" + str( no ) + \" of which are not.\")\n",
    "\n",
    "print( missing )"
   ]
  },
  {
   "cell_type": "code",
   "execution_count": null,
   "metadata": {},
   "outputs": [],
   "source": [
    "yes = 0\n",
    "no = 0\n",
    "missing = []\n",
    "\n",
    "for i in child_phos_d:\n",
    "    if i in parent_phos:\n",
    "        yes += 1\n",
    "    else:\n",
    "        no += 1\n",
    "        missing.append( i )\n",
    "\n",
    "print( \"Disease-phosphosite table contains \" + str( len( child_phos_d ) ) + \" phosphosite IDs, \"\n",
    "     + str( yes ) + \" of which are in the phosphosite table, \" + str( no ) + \" of which are not.\")\n",
    "\n",
    "print( missing )"
   ]
  },
  {
   "cell_type": "code",
   "execution_count": null,
   "metadata": {},
   "outputs": [],
   "source": [
    "# Parent:\n",
    "parent_kin = list( human_kinases.UniProt_ID )\n",
    "\n",
    "# Children:\n",
    "child_kin = list( kinases_phosphosites.KIN_ACC_ID_2 )\n",
    "child_inh = list( inhib_kin.UniProt_ID )"
   ]
  },
  {
   "cell_type": "code",
   "execution_count": null,
   "metadata": {},
   "outputs": [],
   "source": [
    "yes = 0\n",
    "no = 0\n",
    "missing_kinases = []\n",
    "\n",
    "for i in child_kin:\n",
    "    if i in parent_kin:\n",
    "        yes += 1\n",
    "    else:\n",
    "        no += 1\n",
    "        if i not in missing_kinases:\n",
    "            missing_kinases.append( i )\n",
    "\n",
    "print( \"Kinase-phosphosite table contains \" + str( len( child_kin ) ) + \" kinase IDs, \"\n",
    "     + str( yes ) + \" of which are in the kinase table, \" + str( no ) + \" of which are not.\")\n",
    "\n",
    "print( \"No. of unique missing kinases: \" + str( len( missing_kinases ) ) )\n",
    "\n",
    "print( missing_kinases )"
   ]
  },
  {
   "cell_type": "code",
   "execution_count": null,
   "metadata": {},
   "outputs": [],
   "source": [
    "yes = 0\n",
    "no = 0\n",
    "missing_kinases = []\n",
    "\n",
    "for i in child_inh:\n",
    "    if i in parent_kin:\n",
    "        yes += 1\n",
    "    else:\n",
    "        no += 1\n",
    "        if i not in missing_kinases:\n",
    "            missing_kinases.append( i )\n",
    "\n",
    "print( \"Inhibitor-kinase table contains \" + str( len( child_inh ) ) + \" kinase IDs, \"\n",
    "     + str( yes ) + \" of which are in the kinase table, \" + str( no ) + \" of which are not.\")\n",
    "\n",
    "print( \"No. of unique missing kinases: \" + str( len( missing_kinases ) ) )\n",
    "\n",
    "print( missing_kinases )"
   ]
  },
  {
   "cell_type": "code",
   "execution_count": null,
   "metadata": {},
   "outputs": [],
   "source": [
    "# Parent:\n",
    "parent_inh = list( inhibitors.Inhibitor )\n",
    "\n",
    "# Child\n",
    "child_inh2 = list( inhib_kin.Inhibitor )"
   ]
  },
  {
   "cell_type": "code",
   "execution_count": null,
   "metadata": {},
   "outputs": [],
   "source": [
    "yes = 0\n",
    "no = 0\n",
    "missing_inhibitors = []\n",
    "\n",
    "for i in child_inh2:\n",
    "    if i in parent_inh:\n",
    "        yes += 1\n",
    "    else:\n",
    "        no += 1\n",
    "        if i not in missing_inhibitors:\n",
    "            missing_inhibitors.append(i)\n",
    "\n",
    "print( \"Inhibitor-kinase table contains \" + str( len( child_inh2 ) ) + \" inhibitor IDs, \"\n",
    "     + str( yes ) + \" of which are in the inhibitor table, \" + str( no ) + \" of which are not.\")\n",
    "\n",
    "print( \"No. of unique missing inhibitors: \" + str( len( missing_inhibitors ) ) )\n",
    "\n",
    "print( missing_inhibitors )"
   ]
  },
  {
   "cell_type": "markdown",
   "metadata": {},
   "source": [
    "Ensure foreign keys in parent tables are only present once"
   ]
  },
  {
   "cell_type": "code",
   "execution_count": null,
   "metadata": {},
   "outputs": [],
   "source": [
    "phosphosites.PHOS_ID5.value_counts()"
   ]
  },
  {
   "cell_type": "code",
   "execution_count": null,
   "metadata": {},
   "outputs": [],
   "source": [
    "human_kinases.UniProt_ID.value_counts()"
   ]
  },
  {
   "cell_type": "code",
   "execution_count": null,
   "metadata": {},
   "outputs": [],
   "source": [
    "inhibitors.Inhibitor.value_counts()"
   ]
  },
  {
   "cell_type": "code",
   "execution_count": null,
   "metadata": {},
   "outputs": [],
   "source": [
    "# Make a list of substrates in the quantitative phosphoproteomics file\n",
    "\n",
    "qp_ids = list( qp.Substrate )"
   ]
  },
  {
   "cell_type": "code",
   "execution_count": null,
   "metadata": {
    "scrolled": true
   },
   "outputs": [],
   "source": [
    "# Check PHOS_ID, PHOS_ID2, PHOS_ID3 and PHOS_ID4 in kinases_phosphosites\n",
    "# for qp_ids\n",
    "\n",
    "pid = 0\n",
    "pid2 = 0\n",
    "pid3 = 0\n",
    "pid4 = 0\n",
    "unphos = 0\n",
    "unmatched = 0\n",
    "\n",
    "for i in qp_ids:\n",
    "    if i in list( kinases_phosphosites.PHOS_ID ):\n",
    "        pid += 1\n",
    "    elif i in list( kinases_phosphosites.PHOS_ID2 ):\n",
    "        pid2 += 1\n",
    "    elif i in list( kinases_phosphosites.PHOS_ID3 ):\n",
    "        pid3 += 1\n",
    "    elif i in list( kinases_phosphosites.PHOS_ID4 ):\n",
    "        pid4 += 1\n",
    "    elif \"(None)\" in i:\n",
    "        unphos += 1\n",
    "    else:\n",
    "        unmatched += 1\n",
    "\n",
    "print( pid )\n",
    "print( pid2 )\n",
    "print( pid3 )\n",
    "print( pid4 )\n",
    "print( unphos )\n",
    "print( unmatched )"
   ]
  },
  {
   "cell_type": "markdown",
   "metadata": {},
   "source": []
  }
 ],
 "metadata": {
  "kernelspec": {
   "display_name": "Python 3",
   "language": "python",
   "name": "python3"
  },
  "language_info": {
   "codemirror_mode": {
    "name": "ipython",
    "version": 3
   },
   "file_extension": ".py",
   "mimetype": "text/x-python",
   "name": "python",
   "nbconvert_exporter": "python",
   "pygments_lexer": "ipython3",
   "version": "3.7.4"
  }
 },
 "nbformat": 4,
 "nbformat_minor": 2
}
